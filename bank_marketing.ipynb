{
 "cells": [
  {
   "cell_type": "code",
   "execution_count": 1,
   "id": "7d06df05",
   "metadata": {},
   "outputs": [
    {
     "data": {
      "text/html": [
       "<style>\n",
       "    table {\n",
       "        display: inline-block\n",
       "    }\n",
       "</style>\n"
      ],
      "text/plain": [
       "<IPython.core.display.HTML object>"
      ]
     },
     "metadata": {},
     "output_type": "display_data"
    }
   ],
   "source": [
    "%%html\n",
    "<style>\n",
    "    table {\n",
    "        display: inline-block\n",
    "    }\n",
    "</style>"
   ]
  },
  {
   "cell_type": "markdown",
   "id": "9328cd4b",
   "metadata": {},
   "source": [
    "## 1. Problem Statement"
   ]
  },
  {
   "cell_type": "markdown",
   "id": "3d56c933",
   "metadata": {},
   "source": [
    "The data is related with direct marketing campaigns (phone calls) of a Portuguese banking institution. The classification goal is to predict if the client will subscribe a term deposit (variable y).\n",
    "- build a classification model to predict if the client will subscribe to a term deposit \n",
    "- explain what kind of decisions you made and why when you go from raw data to the final model. \n",
    "\n",
    "Source: S. Moro, P. Cortez and P. Rita. A Data-Driven Approach to Predict the Success of Bank Telemarketing. Decision Support Systems, Elsevier, 62:22-31, June 2014"
   ]
  },
  {
   "cell_type": "markdown",
   "id": "bced8696",
   "metadata": {},
   "source": [
    "## 2. Data"
   ]
  },
  {
   "cell_type": "markdown",
   "id": "41887ebd",
   "metadata": {},
   "source": [
    "#### 2.1 Feature List"
   ]
  },
  {
   "cell_type": "markdown",
   "id": "231a9e80",
   "metadata": {},
   "source": [
    "| Variable  | Category | Type\n",
    "| :------------ | :-------------- | :----- |\n",
    "| age | Client Data | numeric |\n",
    "| job | Client Data | categorical |\n",
    "| marital | Client Data | categorical |\n",
    "| education | Client Data | categorical |\n",
    "| default | Client Data | categorical |\n",
    "| housing | Client Data | categorical |\n",
    "| loan | Client Data | categorical |\n",
    "| contact | Campain Data | categorical |\n",
    "| month | Campain Data | categorical |\n",
    "| day_of_week | Campaign Data | categorical |\n",
    "| ~duration~ | ~Campaign Data~ | ~numeric~ |\n",
    "| campaign | Other Features | numeric |\n",
    "| pdays | Other Features | numeric |\n",
    "| previous | Other Features | numeric |\n",
    "| poutcome | Other Features | categorical |\n",
    "| emp.var.rate | Socioeconomics | numeric |\n",
    "| cons.price.idx | Socioeconomics | numeric |\n",
    "| euribor3m | Socioeconomics | numeric |\n",
    "| poutcome | Socioeconomics | numeric |\n",
    "| nr.employed | Socioeconomics | numeric |\n",
    "| y | target | categorical |\n"
   ]
  },
  {
   "cell_type": "markdown",
   "id": "fe11ce9c",
   "metadata": {},
   "source": [
    "#### Feature Description"
   ]
  },
  {
   "cell_type": "markdown",
   "id": "e381cf57",
   "metadata": {},
   "source": [
    "### Input variables:\n",
    "#### bank client data:\n",
    "1 - age (numeric) \\\n",
    "2 - job : type of job (categorical: 'admin.','blue-collar','entrepreneur','housemaid','management','retired','self-employed','services','student','technician','unemployed','unknown') \\\n",
    "3 - marital : marital status (categorical: 'divorced','married','single','unknown'; note: 'divorced' means divorced or widowed) \\\n",
    "4 - education (categorical: 'basic.4y','basic.6y','basic.9y','high.school','illiterate','professional.course','university.degree','unknown') \\\n",
    "5 - default: has credit in default? (categorical: 'no','yes','unknown') \\\n",
    "6 - housing: has housing loan? (categorical: 'no','yes','unknown') \\\n",
    "7 - loan: has personal loan? (categorical: 'no','yes','unknown') \n",
    "#### related with the last contact of the current campaign:\n",
    "8 - contact: contact communication type (categorical: 'cellular','telephone') \\\n",
    "9 - month: last contact month of year (categorical: 'jan', 'feb', 'mar', ..., 'nov', 'dec') \\\n",
    "10 - day_of_week: last contact day of the week (categorical: 'mon','tue','wed','thu','fri') \\\n",
    "11 - duration: last contact duration, in seconds (numeric). Important note: this attribute highly affects the output target (e.g., if duration=0 then y='no'). Yet, the duration is not known before a call is performed. Also, after the end of the call y is obviously known. Thus, this input should only be included for benchmark purposes and should be discarded if the intention is to have a realistic predictive model. \n",
    "#### other attributes:\n",
    "12 - campaign: number of contacts performed during this campaign and for this client (numeric, includes last contact) \\\n",
    "13 - pdays: number of days that passed by after the client was last contacted from a previous campaign (numeric; 999 means client was not previously contacted) \\\n",
    "14 - previous: number of contacts performed before this campaign and for this client (numeric) \\\n",
    "15 - poutcome: outcome of the previous marketing campaign (categorical: 'failure','nonexistent','success') \n",
    "#### social and economic context attributes\n",
    "16 - emp.var.rate: employment variation rate - quarterly indicator (numeric) \\\n",
    "17 - cons.price.idx: consumer price index - monthly indicator (numeric) \\\n",
    "18 - cons.conf.idx: consumer confidence index - monthly indicator (numeric) \\\n",
    "19 - euribor3m: euribor 3 month rate - daily indicator (numeric) \\\n",
    "20 - nr.employed: number of employees - quarterly indicator (numeric) \n",
    "\n",
    "### Output variable (desired target):\n",
    "21 - y - has the client subscribed a term deposit? (binary: 'yes','no') "
   ]
  },
  {
   "cell_type": "code",
   "execution_count": 2,
   "id": "c6d2ff70",
   "metadata": {},
   "outputs": [],
   "source": [
    "import os\n",
    "import glob\n",
    "from matplotlib import pyplot as plt\n",
    "import seaborn as sns\n",
    "import numpy as np\n",
    "import pandas as pd\n",
    "from pandas import get_dummies\n",
    "from scipy.stats import percentileofscore"
   ]
  },
  {
   "cell_type": "code",
   "execution_count": 3,
   "id": "a38e9bdb",
   "metadata": {},
   "outputs": [],
   "source": [
    "import sklearn\n",
    "from sklearn.metrics import confusion_matrix, classification_report\n",
    "from sklearn.model_selection import train_test_split, RandomizedSearchCV\n",
    "from sklearn.metrics import roc_curve, auc, precision_recall_curve, \\\n",
    "    classification_report, average_precision_score, roc_auc_score\n",
    "from xgboost import XGBClassifier"
   ]
  },
  {
   "cell_type": "markdown",
   "id": "95d58b44",
   "metadata": {},
   "source": [
    "### Loading Data"
   ]
  },
  {
   "cell_type": "code",
   "execution_count": 4,
   "id": "3fcf4bd5",
   "metadata": {},
   "outputs": [
    {
     "data": {
      "text/plain": [
       "['data/bank-additional-full.csv',\n",
       " 'data/bank-additional.csv',\n",
       " 'data/bank-additional-names.txt']"
      ]
     },
     "execution_count": 4,
     "metadata": {},
     "output_type": "execute_result"
    }
   ],
   "source": [
    "glob.glob('data/*', recursive=True)"
   ]
  },
  {
   "cell_type": "code",
   "execution_count": 5,
   "id": "6b3ad804",
   "metadata": {},
   "outputs": [],
   "source": [
    "data = pd.read_csv('data/bank-additional-full.csv', sep=';').drop(columns = ['duration'])"
   ]
  },
  {
   "cell_type": "code",
   "execution_count": 6,
   "id": "3057332a",
   "metadata": {},
   "outputs": [
    {
     "data": {
      "text/html": [
       "<div>\n",
       "<style scoped>\n",
       "    .dataframe tbody tr th:only-of-type {\n",
       "        vertical-align: middle;\n",
       "    }\n",
       "\n",
       "    .dataframe tbody tr th {\n",
       "        vertical-align: top;\n",
       "    }\n",
       "\n",
       "    .dataframe thead th {\n",
       "        text-align: right;\n",
       "    }\n",
       "</style>\n",
       "<table border=\"1\" class=\"dataframe\">\n",
       "  <thead>\n",
       "    <tr style=\"text-align: right;\">\n",
       "      <th></th>\n",
       "      <th>age</th>\n",
       "      <th>job</th>\n",
       "      <th>marital</th>\n",
       "      <th>education</th>\n",
       "      <th>default</th>\n",
       "      <th>housing</th>\n",
       "      <th>loan</th>\n",
       "      <th>contact</th>\n",
       "      <th>month</th>\n",
       "      <th>day_of_week</th>\n",
       "      <th>campaign</th>\n",
       "      <th>pdays</th>\n",
       "      <th>previous</th>\n",
       "      <th>poutcome</th>\n",
       "      <th>emp.var.rate</th>\n",
       "      <th>cons.price.idx</th>\n",
       "      <th>cons.conf.idx</th>\n",
       "      <th>euribor3m</th>\n",
       "      <th>nr.employed</th>\n",
       "      <th>y</th>\n",
       "    </tr>\n",
       "  </thead>\n",
       "  <tbody>\n",
       "    <tr>\n",
       "      <th>0</th>\n",
       "      <td>56</td>\n",
       "      <td>housemaid</td>\n",
       "      <td>married</td>\n",
       "      <td>basic.4y</td>\n",
       "      <td>no</td>\n",
       "      <td>no</td>\n",
       "      <td>no</td>\n",
       "      <td>telephone</td>\n",
       "      <td>may</td>\n",
       "      <td>mon</td>\n",
       "      <td>1</td>\n",
       "      <td>999</td>\n",
       "      <td>0</td>\n",
       "      <td>nonexistent</td>\n",
       "      <td>1.1</td>\n",
       "      <td>93.994</td>\n",
       "      <td>-36.4</td>\n",
       "      <td>4.857</td>\n",
       "      <td>5191.0</td>\n",
       "      <td>no</td>\n",
       "    </tr>\n",
       "    <tr>\n",
       "      <th>1</th>\n",
       "      <td>57</td>\n",
       "      <td>services</td>\n",
       "      <td>married</td>\n",
       "      <td>high.school</td>\n",
       "      <td>unknown</td>\n",
       "      <td>no</td>\n",
       "      <td>no</td>\n",
       "      <td>telephone</td>\n",
       "      <td>may</td>\n",
       "      <td>mon</td>\n",
       "      <td>1</td>\n",
       "      <td>999</td>\n",
       "      <td>0</td>\n",
       "      <td>nonexistent</td>\n",
       "      <td>1.1</td>\n",
       "      <td>93.994</td>\n",
       "      <td>-36.4</td>\n",
       "      <td>4.857</td>\n",
       "      <td>5191.0</td>\n",
       "      <td>no</td>\n",
       "    </tr>\n",
       "    <tr>\n",
       "      <th>2</th>\n",
       "      <td>37</td>\n",
       "      <td>services</td>\n",
       "      <td>married</td>\n",
       "      <td>high.school</td>\n",
       "      <td>no</td>\n",
       "      <td>yes</td>\n",
       "      <td>no</td>\n",
       "      <td>telephone</td>\n",
       "      <td>may</td>\n",
       "      <td>mon</td>\n",
       "      <td>1</td>\n",
       "      <td>999</td>\n",
       "      <td>0</td>\n",
       "      <td>nonexistent</td>\n",
       "      <td>1.1</td>\n",
       "      <td>93.994</td>\n",
       "      <td>-36.4</td>\n",
       "      <td>4.857</td>\n",
       "      <td>5191.0</td>\n",
       "      <td>no</td>\n",
       "    </tr>\n",
       "    <tr>\n",
       "      <th>3</th>\n",
       "      <td>40</td>\n",
       "      <td>admin.</td>\n",
       "      <td>married</td>\n",
       "      <td>basic.6y</td>\n",
       "      <td>no</td>\n",
       "      <td>no</td>\n",
       "      <td>no</td>\n",
       "      <td>telephone</td>\n",
       "      <td>may</td>\n",
       "      <td>mon</td>\n",
       "      <td>1</td>\n",
       "      <td>999</td>\n",
       "      <td>0</td>\n",
       "      <td>nonexistent</td>\n",
       "      <td>1.1</td>\n",
       "      <td>93.994</td>\n",
       "      <td>-36.4</td>\n",
       "      <td>4.857</td>\n",
       "      <td>5191.0</td>\n",
       "      <td>no</td>\n",
       "    </tr>\n",
       "    <tr>\n",
       "      <th>4</th>\n",
       "      <td>56</td>\n",
       "      <td>services</td>\n",
       "      <td>married</td>\n",
       "      <td>high.school</td>\n",
       "      <td>no</td>\n",
       "      <td>no</td>\n",
       "      <td>yes</td>\n",
       "      <td>telephone</td>\n",
       "      <td>may</td>\n",
       "      <td>mon</td>\n",
       "      <td>1</td>\n",
       "      <td>999</td>\n",
       "      <td>0</td>\n",
       "      <td>nonexistent</td>\n",
       "      <td>1.1</td>\n",
       "      <td>93.994</td>\n",
       "      <td>-36.4</td>\n",
       "      <td>4.857</td>\n",
       "      <td>5191.0</td>\n",
       "      <td>no</td>\n",
       "    </tr>\n",
       "  </tbody>\n",
       "</table>\n",
       "</div>"
      ],
      "text/plain": [
       "   age        job  marital    education  default housing loan    contact  \\\n",
       "0   56  housemaid  married     basic.4y       no      no   no  telephone   \n",
       "1   57   services  married  high.school  unknown      no   no  telephone   \n",
       "2   37   services  married  high.school       no     yes   no  telephone   \n",
       "3   40     admin.  married     basic.6y       no      no   no  telephone   \n",
       "4   56   services  married  high.school       no      no  yes  telephone   \n",
       "\n",
       "  month day_of_week  campaign  pdays  previous     poutcome  emp.var.rate  \\\n",
       "0   may         mon         1    999         0  nonexistent           1.1   \n",
       "1   may         mon         1    999         0  nonexistent           1.1   \n",
       "2   may         mon         1    999         0  nonexistent           1.1   \n",
       "3   may         mon         1    999         0  nonexistent           1.1   \n",
       "4   may         mon         1    999         0  nonexistent           1.1   \n",
       "\n",
       "   cons.price.idx  cons.conf.idx  euribor3m  nr.employed   y  \n",
       "0          93.994          -36.4      4.857       5191.0  no  \n",
       "1          93.994          -36.4      4.857       5191.0  no  \n",
       "2          93.994          -36.4      4.857       5191.0  no  \n",
       "3          93.994          -36.4      4.857       5191.0  no  \n",
       "4          93.994          -36.4      4.857       5191.0  no  "
      ]
     },
     "execution_count": 6,
     "metadata": {},
     "output_type": "execute_result"
    }
   ],
   "source": [
    "data.head()"
   ]
  },
  {
   "cell_type": "markdown",
   "id": "72446b04",
   "metadata": {},
   "source": [
    "## 3. Features Evaluation"
   ]
  },
  {
   "cell_type": "markdown",
   "id": "872c16cf",
   "metadata": {},
   "source": [
    "### 3.1 Overal View"
   ]
  },
  {
   "cell_type": "code",
   "execution_count": 7,
   "id": "2a6bc85f",
   "metadata": {},
   "outputs": [
    {
     "name": "stdout",
     "output_type": "stream",
     "text": [
      "<class 'pandas.core.frame.DataFrame'>\n",
      "RangeIndex: 41188 entries, 0 to 41187\n",
      "Data columns (total 20 columns):\n",
      " #   Column          Non-Null Count  Dtype  \n",
      "---  ------          --------------  -----  \n",
      " 0   age             41188 non-null  int64  \n",
      " 1   job             41188 non-null  object \n",
      " 2   marital         41188 non-null  object \n",
      " 3   education       41188 non-null  object \n",
      " 4   default         41188 non-null  object \n",
      " 5   housing         41188 non-null  object \n",
      " 6   loan            41188 non-null  object \n",
      " 7   contact         41188 non-null  object \n",
      " 8   month           41188 non-null  object \n",
      " 9   day_of_week     41188 non-null  object \n",
      " 10  campaign        41188 non-null  int64  \n",
      " 11  pdays           41188 non-null  int64  \n",
      " 12  previous        41188 non-null  int64  \n",
      " 13  poutcome        41188 non-null  object \n",
      " 14  emp.var.rate    41188 non-null  float64\n",
      " 15  cons.price.idx  41188 non-null  float64\n",
      " 16  cons.conf.idx   41188 non-null  float64\n",
      " 17  euribor3m       41188 non-null  float64\n",
      " 18  nr.employed     41188 non-null  float64\n",
      " 19  y               41188 non-null  object \n",
      "dtypes: float64(5), int64(4), object(11)\n",
      "memory usage: 6.3+ MB\n"
     ]
    }
   ],
   "source": [
    "data.info()"
   ]
  },
  {
   "cell_type": "code",
   "execution_count": 8,
   "id": "fc0d3150",
   "metadata": {},
   "outputs": [
    {
     "data": {
      "text/html": [
       "<div>\n",
       "<style scoped>\n",
       "    .dataframe tbody tr th:only-of-type {\n",
       "        vertical-align: middle;\n",
       "    }\n",
       "\n",
       "    .dataframe tbody tr th {\n",
       "        vertical-align: top;\n",
       "    }\n",
       "\n",
       "    .dataframe thead th {\n",
       "        text-align: right;\n",
       "    }\n",
       "</style>\n",
       "<table border=\"1\" class=\"dataframe\">\n",
       "  <thead>\n",
       "    <tr style=\"text-align: right;\">\n",
       "      <th></th>\n",
       "      <th>age</th>\n",
       "      <th>campaign</th>\n",
       "      <th>pdays</th>\n",
       "      <th>previous</th>\n",
       "      <th>emp.var.rate</th>\n",
       "      <th>cons.price.idx</th>\n",
       "      <th>cons.conf.idx</th>\n",
       "      <th>euribor3m</th>\n",
       "      <th>nr.employed</th>\n",
       "    </tr>\n",
       "  </thead>\n",
       "  <tbody>\n",
       "    <tr>\n",
       "      <th>count</th>\n",
       "      <td>41188.00000</td>\n",
       "      <td>41188.000000</td>\n",
       "      <td>41188.000000</td>\n",
       "      <td>41188.000000</td>\n",
       "      <td>41188.000000</td>\n",
       "      <td>41188.000000</td>\n",
       "      <td>41188.000000</td>\n",
       "      <td>41188.000000</td>\n",
       "      <td>41188.000000</td>\n",
       "    </tr>\n",
       "    <tr>\n",
       "      <th>mean</th>\n",
       "      <td>40.02406</td>\n",
       "      <td>2.567593</td>\n",
       "      <td>962.475454</td>\n",
       "      <td>0.172963</td>\n",
       "      <td>0.081886</td>\n",
       "      <td>93.575664</td>\n",
       "      <td>-40.502600</td>\n",
       "      <td>3.621291</td>\n",
       "      <td>5167.035911</td>\n",
       "    </tr>\n",
       "    <tr>\n",
       "      <th>std</th>\n",
       "      <td>10.42125</td>\n",
       "      <td>2.770014</td>\n",
       "      <td>186.910907</td>\n",
       "      <td>0.494901</td>\n",
       "      <td>1.570960</td>\n",
       "      <td>0.578840</td>\n",
       "      <td>4.628198</td>\n",
       "      <td>1.734447</td>\n",
       "      <td>72.251528</td>\n",
       "    </tr>\n",
       "    <tr>\n",
       "      <th>min</th>\n",
       "      <td>17.00000</td>\n",
       "      <td>1.000000</td>\n",
       "      <td>0.000000</td>\n",
       "      <td>0.000000</td>\n",
       "      <td>-3.400000</td>\n",
       "      <td>92.201000</td>\n",
       "      <td>-50.800000</td>\n",
       "      <td>0.634000</td>\n",
       "      <td>4963.600000</td>\n",
       "    </tr>\n",
       "    <tr>\n",
       "      <th>25%</th>\n",
       "      <td>32.00000</td>\n",
       "      <td>1.000000</td>\n",
       "      <td>999.000000</td>\n",
       "      <td>0.000000</td>\n",
       "      <td>-1.800000</td>\n",
       "      <td>93.075000</td>\n",
       "      <td>-42.700000</td>\n",
       "      <td>1.344000</td>\n",
       "      <td>5099.100000</td>\n",
       "    </tr>\n",
       "    <tr>\n",
       "      <th>50%</th>\n",
       "      <td>38.00000</td>\n",
       "      <td>2.000000</td>\n",
       "      <td>999.000000</td>\n",
       "      <td>0.000000</td>\n",
       "      <td>1.100000</td>\n",
       "      <td>93.749000</td>\n",
       "      <td>-41.800000</td>\n",
       "      <td>4.857000</td>\n",
       "      <td>5191.000000</td>\n",
       "    </tr>\n",
       "    <tr>\n",
       "      <th>75%</th>\n",
       "      <td>47.00000</td>\n",
       "      <td>3.000000</td>\n",
       "      <td>999.000000</td>\n",
       "      <td>0.000000</td>\n",
       "      <td>1.400000</td>\n",
       "      <td>93.994000</td>\n",
       "      <td>-36.400000</td>\n",
       "      <td>4.961000</td>\n",
       "      <td>5228.100000</td>\n",
       "    </tr>\n",
       "    <tr>\n",
       "      <th>max</th>\n",
       "      <td>98.00000</td>\n",
       "      <td>56.000000</td>\n",
       "      <td>999.000000</td>\n",
       "      <td>7.000000</td>\n",
       "      <td>1.400000</td>\n",
       "      <td>94.767000</td>\n",
       "      <td>-26.900000</td>\n",
       "      <td>5.045000</td>\n",
       "      <td>5228.100000</td>\n",
       "    </tr>\n",
       "  </tbody>\n",
       "</table>\n",
       "</div>"
      ],
      "text/plain": [
       "               age      campaign         pdays      previous  emp.var.rate  \\\n",
       "count  41188.00000  41188.000000  41188.000000  41188.000000  41188.000000   \n",
       "mean      40.02406      2.567593    962.475454      0.172963      0.081886   \n",
       "std       10.42125      2.770014    186.910907      0.494901      1.570960   \n",
       "min       17.00000      1.000000      0.000000      0.000000     -3.400000   \n",
       "25%       32.00000      1.000000    999.000000      0.000000     -1.800000   \n",
       "50%       38.00000      2.000000    999.000000      0.000000      1.100000   \n",
       "75%       47.00000      3.000000    999.000000      0.000000      1.400000   \n",
       "max       98.00000     56.000000    999.000000      7.000000      1.400000   \n",
       "\n",
       "       cons.price.idx  cons.conf.idx     euribor3m   nr.employed  \n",
       "count    41188.000000   41188.000000  41188.000000  41188.000000  \n",
       "mean        93.575664     -40.502600      3.621291   5167.035911  \n",
       "std          0.578840       4.628198      1.734447     72.251528  \n",
       "min         92.201000     -50.800000      0.634000   4963.600000  \n",
       "25%         93.075000     -42.700000      1.344000   5099.100000  \n",
       "50%         93.749000     -41.800000      4.857000   5191.000000  \n",
       "75%         93.994000     -36.400000      4.961000   5228.100000  \n",
       "max         94.767000     -26.900000      5.045000   5228.100000  "
      ]
     },
     "execution_count": 8,
     "metadata": {},
     "output_type": "execute_result"
    }
   ],
   "source": [
    "data.describe()"
   ]
  },
  {
   "cell_type": "markdown",
   "id": "2d51e253",
   "metadata": {},
   "source": [
    "### 3.2 In depth analysis"
   ]
  },
  {
   "cell_type": "markdown",
   "id": "038bffb9",
   "metadata": {},
   "source": [
    "#### Target Variable"
   ]
  },
  {
   "cell_type": "code",
   "execution_count": 9,
   "id": "9a328fa7",
   "metadata": {},
   "outputs": [
    {
     "name": "stdout",
     "output_type": "stream",
     "text": [
      "Overal success rate of campaign is 11.27%\n"
     ]
    }
   ],
   "source": [
    "data['y_numeric'] = data['y'].map({'yes':1, 'no':0})\n",
    "positive_rate = round(data['y_numeric'].mean()*100,2)\n",
    "print(f\"Overal success rate of campaign is {positive_rate}%\")"
   ]
  },
  {
   "cell_type": "code",
   "execution_count": 10,
   "id": "1aa5a50f",
   "metadata": {},
   "outputs": [
    {
     "data": {
      "image/png": "[encoded data removed]",
      "text/plain": [
       "<Figure size 432x288 with 1 Axes>"
      ]
     },
     "metadata": {
      "needs_background": "light"
     },
     "output_type": "display_data"
    }
   ],
   "source": [
    "ax = sns.countplot(x=\"y\",data=data)"
   ]
  },
  {
   "cell_type": "markdown",
   "id": "4bf60fb4",
   "metadata": {},
   "source": [
    "#### Features"
   ]
  },
  {
   "cell_type": "code",
   "execution_count": 11,
   "id": "06e0162a",
   "metadata": {},
   "outputs": [
    {
     "data": {
      "image/png": "[encoded data removed]",
      "text/plain": [
       "<Figure size 1080x720 with 6 Axes>"
      ]
     },
     "metadata": {
      "needs_background": "light"
     },
     "output_type": "display_data"
    }
   ],
   "source": [
    "fig, axs = plt.subplots(2,3, figsize = [15,10])\n",
    "fig.tight_layout() \n",
    "fig.subplots_adjust(hspace=.45)  \n",
    "for i, feature in enumerate(['job', 'marital', 'education', 'default', 'housing', 'loan']):\n",
    "    ax=axs[i//3,i%3]\n",
    "    sns.countplot(x= data[feature], ax=ax)\n",
    "    ax.tick_params(axis='x', rotation=45)\n"
   ]
  },
  {
   "cell_type": "code",
   "execution_count": 12,
   "id": "974941e2",
   "metadata": {},
   "outputs": [],
   "source": [
    "data_yes = data.query(\"y == 'yes'\")\n",
    "data_no = data.query(\"y == 'no'\")\n",
    "data_balance_sample = pd.concat([data_yes.sample(100000, replace=True), data_no.sample(100000, replace=True)], axis = 0).reset_index(drop=True)\n",
    "#data_balance_sample.head()"
   ]
  },
  {
   "cell_type": "code",
   "execution_count": 13,
   "id": "fdb42a22",
   "metadata": {},
   "outputs": [
    {
     "data": {
      "image/png": "[encoded data removed]",
      "text/plain": [
       "<Figure size 1080x1080 with 9 Axes>"
      ]
     },
     "metadata": {
      "needs_background": "light"
     },
     "output_type": "display_data"
    }
   ],
   "source": [
    "fig, axs = plt.subplots(3, 3, figsize = [15,15])\n",
    "fig.tight_layout() \n",
    "fig.subplots_adjust(hspace=.45)  \n",
    "for i, feature in enumerate(\n",
    "    ['job', 'marital', 'education',\n",
    "     'default', 'housing', 'loan',\n",
    "     'month', 'day_of_week', 'poutcome']):\n",
    "    ax=axs[i//3,i%3]\n",
    "    sns.histplot(hue=data_balance_sample['y'], x= data_balance_sample[feature], stat='percent', ax=ax)\n",
    "    ax.tick_params(axis='x', rotation=75)"
   ]
  },
  {
   "cell_type": "code",
   "execution_count": 14,
   "id": "33dda04d",
   "metadata": {},
   "outputs": [
    {
     "data": {
      "image/png": "[encoded data removed]",
      "text/plain": [
       "<Figure size 1080x360 with 3 Axes>"
      ]
     },
     "metadata": {
      "needs_background": "light"
     },
     "output_type": "display_data"
    }
   ],
   "source": [
    "fig, axs = plt.subplots(1,3, figsize = [15,5])\n",
    "fig.tight_layout() \n",
    "fig.subplots_adjust(hspace=.45)  \n",
    "for i, feature in enumerate(['age','campaign', 'pdays']):\n",
    "    ax=axs[i]\n",
    "    sns.histplot(x= data[feature], ax=ax, kde = True)\n",
    "    ax.tick_params(axis='x', rotation=45)"
   ]
  },
  {
   "cell_type": "code",
   "execution_count": 15,
   "id": "1d6db048",
   "metadata": {},
   "outputs": [
    {
     "data": {
      "text/plain": [
       "None        96.321744\n",
       "Positive     3.678256\n",
       "Name: pdays, dtype: float64"
      ]
     },
     "execution_count": 15,
     "metadata": {},
     "output_type": "execute_result"
    }
   ],
   "source": [
    "# Seems we have to impute the value or drop this variable\n",
    "data['pdays'].apply(lambda x: 'None' if x==999 else 'Positive').value_counts()/len(data)*100"
   ]
  },
  {
   "cell_type": "code",
   "execution_count": 16,
   "id": "a1915ca3",
   "metadata": {},
   "outputs": [
    {
     "data": {
      "text/plain": [
       "<AxesSubplot:xlabel='pdays', ylabel='Count'>"
      ]
     },
     "execution_count": 16,
     "metadata": {},
     "output_type": "execute_result"
    },
    {
     "data": {
      "image/png": "[encoded data removed]",
      "text/plain": [
       "<Figure size 432x288 with 1 Axes>"
      ]
     },
     "metadata": {
      "needs_background": "light"
     },
     "output_type": "display_data"
    }
   ],
   "source": [
    "sns.histplot(x=data.query(\"pdays!=999\")['pdays'], hue=data.query(\"pdays!=999\")['y'], bins=10)"
   ]
  },
  {
   "cell_type": "code",
   "execution_count": 17,
   "id": "21c121f0",
   "metadata": {},
   "outputs": [
    {
     "name": "stdout",
     "output_type": "stream",
     "text": [
      "Number of data point with campaign being less than or eqial to 14 is 99.0%\n"
     ]
    }
   ],
   "source": [
    "perc99 = round(data.query(\"campaign<=14\")['campaign'].count()/len(data)*100,1)\n",
    "print(f\"Number of data point with campaign being less than or eqial to 14 is {perc99}%\")"
   ]
  },
  {
   "cell_type": "markdown",
   "id": "5270d136",
   "metadata": {},
   "source": [
    "It seems better to winsorize campaign variable, which means:\n",
    "- campaign = 14 if campaign > 14"
   ]
  },
  {
   "cell_type": "code",
   "execution_count": 18,
   "id": "a18209ce",
   "metadata": {},
   "outputs": [
    {
     "data": {
      "text/plain": [
       "<AxesSubplot:>"
      ]
     },
     "execution_count": 18,
     "metadata": {},
     "output_type": "execute_result"
    },
    {
     "data": {
      "image/png": "[encoded data removed]",
      "text/plain": [
       "<Figure size 432x288 with 1 Axes>"
      ]
     },
     "metadata": {
      "needs_background": "light"
     },
     "output_type": "display_data"
    }
   ],
   "source": [
    "data.query(\"campaign<=10\")['campaign'].hist()"
   ]
  },
  {
   "cell_type": "code",
   "execution_count": 19,
   "id": "96a549e5",
   "metadata": {},
   "outputs": [
    {
     "data": {
      "text/plain": [
       "<AxesSubplot:>"
      ]
     },
     "execution_count": 19,
     "metadata": {},
     "output_type": "execute_result"
    },
    {
     "data": {
      "image/png": "[encoded data removed]",
      "text/plain": [
       "<Figure size 432x288 with 1 Axes>"
      ]
     },
     "metadata": {
      "needs_background": "light"
     },
     "output_type": "display_data"
    }
   ],
   "source": [
    "# age is also less skewed if log-transformed\n",
    "np.log(data['age']).hist()"
   ]
  },
  {
   "cell_type": "markdown",
   "id": "cced41f8",
   "metadata": {},
   "source": [
    "## Feature Engineering"
   ]
  },
  {
   "cell_type": "markdown",
   "id": "680c95b4",
   "metadata": {},
   "source": [
    "#### Categorical Features"
   ]
  },
  {
   "cell_type": "code",
   "execution_count": 20,
   "id": "a1d80d00",
   "metadata": {},
   "outputs": [],
   "source": [
    "def process_dummies(df):\n",
    "    \"\"\"Get a dataframe and convert all columns to dummy variables with proper names\"\"\"\n",
    "    df_out = pd.DataFrame({})\n",
    "    for col in df.columns:\n",
    "        dummied = get_dummies(df[col], drop_first = True)\n",
    "        dummied.columns = [f\"{col}_{dcol}\" for dcol in dummied.columns]\n",
    "        if len(df_out) == 0:\n",
    "            df_out = dummied\n",
    "        else:\n",
    "            df_out = pd.concat([df_out, dummied], axis = 1)\n",
    "    return df_out"
   ]
  },
  {
   "cell_type": "code",
   "execution_count": 21,
   "id": "adeee46c",
   "metadata": {},
   "outputs": [],
   "source": [
    "categorical_features = [\n",
    "    'job', 'marital', 'education', 'default',\n",
    "    'housing', 'loan','month', 'day_of_week', 'poutcome'\n",
    "]"
   ]
  },
  {
   "cell_type": "code",
   "execution_count": 22,
   "id": "b2d604ba",
   "metadata": {},
   "outputs": [
    {
     "data": {
      "text/html": [
       "<div>\n",
       "<style scoped>\n",
       "    .dataframe tbody tr th:only-of-type {\n",
       "        vertical-align: middle;\n",
       "    }\n",
       "\n",
       "    .dataframe tbody tr th {\n",
       "        vertical-align: top;\n",
       "    }\n",
       "\n",
       "    .dataframe thead th {\n",
       "        text-align: right;\n",
       "    }\n",
       "</style>\n",
       "<table border=\"1\" class=\"dataframe\">\n",
       "  <thead>\n",
       "    <tr style=\"text-align: right;\">\n",
       "      <th></th>\n",
       "      <th>job_blue-collar</th>\n",
       "      <th>job_entrepreneur</th>\n",
       "      <th>job_housemaid</th>\n",
       "      <th>job_management</th>\n",
       "      <th>job_retired</th>\n",
       "      <th>job_self-employed</th>\n",
       "      <th>job_services</th>\n",
       "      <th>job_student</th>\n",
       "      <th>job_technician</th>\n",
       "      <th>job_unemployed</th>\n",
       "      <th>...</th>\n",
       "      <th>month_may</th>\n",
       "      <th>month_nov</th>\n",
       "      <th>month_oct</th>\n",
       "      <th>month_sep</th>\n",
       "      <th>day_of_week_mon</th>\n",
       "      <th>day_of_week_thu</th>\n",
       "      <th>day_of_week_tue</th>\n",
       "      <th>day_of_week_wed</th>\n",
       "      <th>poutcome_nonexistent</th>\n",
       "      <th>poutcome_success</th>\n",
       "    </tr>\n",
       "  </thead>\n",
       "  <tbody>\n",
       "    <tr>\n",
       "      <th>0</th>\n",
       "      <td>0</td>\n",
       "      <td>0</td>\n",
       "      <td>1</td>\n",
       "      <td>0</td>\n",
       "      <td>0</td>\n",
       "      <td>0</td>\n",
       "      <td>0</td>\n",
       "      <td>0</td>\n",
       "      <td>0</td>\n",
       "      <td>0</td>\n",
       "      <td>...</td>\n",
       "      <td>1</td>\n",
       "      <td>0</td>\n",
       "      <td>0</td>\n",
       "      <td>0</td>\n",
       "      <td>1</td>\n",
       "      <td>0</td>\n",
       "      <td>0</td>\n",
       "      <td>0</td>\n",
       "      <td>1</td>\n",
       "      <td>0</td>\n",
       "    </tr>\n",
       "    <tr>\n",
       "      <th>1</th>\n",
       "      <td>0</td>\n",
       "      <td>0</td>\n",
       "      <td>0</td>\n",
       "      <td>0</td>\n",
       "      <td>0</td>\n",
       "      <td>0</td>\n",
       "      <td>1</td>\n",
       "      <td>0</td>\n",
       "      <td>0</td>\n",
       "      <td>0</td>\n",
       "      <td>...</td>\n",
       "      <td>1</td>\n",
       "      <td>0</td>\n",
       "      <td>0</td>\n",
       "      <td>0</td>\n",
       "      <td>1</td>\n",
       "      <td>0</td>\n",
       "      <td>0</td>\n",
       "      <td>0</td>\n",
       "      <td>1</td>\n",
       "      <td>0</td>\n",
       "    </tr>\n",
       "    <tr>\n",
       "      <th>2</th>\n",
       "      <td>0</td>\n",
       "      <td>0</td>\n",
       "      <td>0</td>\n",
       "      <td>0</td>\n",
       "      <td>0</td>\n",
       "      <td>0</td>\n",
       "      <td>1</td>\n",
       "      <td>0</td>\n",
       "      <td>0</td>\n",
       "      <td>0</td>\n",
       "      <td>...</td>\n",
       "      <td>1</td>\n",
       "      <td>0</td>\n",
       "      <td>0</td>\n",
       "      <td>0</td>\n",
       "      <td>1</td>\n",
       "      <td>0</td>\n",
       "      <td>0</td>\n",
       "      <td>0</td>\n",
       "      <td>1</td>\n",
       "      <td>0</td>\n",
       "    </tr>\n",
       "    <tr>\n",
       "      <th>3</th>\n",
       "      <td>0</td>\n",
       "      <td>0</td>\n",
       "      <td>0</td>\n",
       "      <td>0</td>\n",
       "      <td>0</td>\n",
       "      <td>0</td>\n",
       "      <td>0</td>\n",
       "      <td>0</td>\n",
       "      <td>0</td>\n",
       "      <td>0</td>\n",
       "      <td>...</td>\n",
       "      <td>1</td>\n",
       "      <td>0</td>\n",
       "      <td>0</td>\n",
       "      <td>0</td>\n",
       "      <td>1</td>\n",
       "      <td>0</td>\n",
       "      <td>0</td>\n",
       "      <td>0</td>\n",
       "      <td>1</td>\n",
       "      <td>0</td>\n",
       "    </tr>\n",
       "    <tr>\n",
       "      <th>4</th>\n",
       "      <td>0</td>\n",
       "      <td>0</td>\n",
       "      <td>0</td>\n",
       "      <td>0</td>\n",
       "      <td>0</td>\n",
       "      <td>0</td>\n",
       "      <td>1</td>\n",
       "      <td>0</td>\n",
       "      <td>0</td>\n",
       "      <td>0</td>\n",
       "      <td>...</td>\n",
       "      <td>1</td>\n",
       "      <td>0</td>\n",
       "      <td>0</td>\n",
       "      <td>0</td>\n",
       "      <td>1</td>\n",
       "      <td>0</td>\n",
       "      <td>0</td>\n",
       "      <td>0</td>\n",
       "      <td>1</td>\n",
       "      <td>0</td>\n",
       "    </tr>\n",
       "  </tbody>\n",
       "</table>\n",
       "<p>5 rows × 42 columns</p>\n",
       "</div>"
      ],
      "text/plain": [
       "   job_blue-collar  job_entrepreneur  job_housemaid  job_management  \\\n",
       "0                0                 0              1               0   \n",
       "1                0                 0              0               0   \n",
       "2                0                 0              0               0   \n",
       "3                0                 0              0               0   \n",
       "4                0                 0              0               0   \n",
       "\n",
       "   job_retired  job_self-employed  job_services  job_student  job_technician  \\\n",
       "0            0                  0             0            0               0   \n",
       "1            0                  0             1            0               0   \n",
       "2            0                  0             1            0               0   \n",
       "3            0                  0             0            0               0   \n",
       "4            0                  0             1            0               0   \n",
       "\n",
       "   job_unemployed  ...  month_may  month_nov  month_oct  month_sep  \\\n",
       "0               0  ...          1          0          0          0   \n",
       "1               0  ...          1          0          0          0   \n",
       "2               0  ...          1          0          0          0   \n",
       "3               0  ...          1          0          0          0   \n",
       "4               0  ...          1          0          0          0   \n",
       "\n",
       "   day_of_week_mon  day_of_week_thu  day_of_week_tue  day_of_week_wed  \\\n",
       "0                1                0                0                0   \n",
       "1                1                0                0                0   \n",
       "2                1                0                0                0   \n",
       "3                1                0                0                0   \n",
       "4                1                0                0                0   \n",
       "\n",
       "   poutcome_nonexistent  poutcome_success  \n",
       "0                     1                 0  \n",
       "1                     1                 0  \n",
       "2                     1                 0  \n",
       "3                     1                 0  \n",
       "4                     1                 0  \n",
       "\n",
       "[5 rows x 42 columns]"
      ]
     },
     "execution_count": 22,
     "metadata": {},
     "output_type": "execute_result"
    }
   ],
   "source": [
    "data_categorical_processed = process_dummies(data[categorical_features])\n",
    "data_categorical_processed.head()"
   ]
  },
  {
   "cell_type": "markdown",
   "id": "c387deab",
   "metadata": {},
   "source": [
    "#### Numerical Features"
   ]
  },
  {
   "cell_type": "code",
   "execution_count": 23,
   "id": "bbdaa3e1",
   "metadata": {},
   "outputs": [],
   "source": [
    "numerical_features = [\n",
    "    'age','campaign', 'emp.var.rate',\n",
    "    'cons.price.idx', 'euribor3m', 'nr.employed'\n",
    "]"
   ]
  },
  {
   "cell_type": "code",
   "execution_count": 24,
   "id": "211fc0c5",
   "metadata": {},
   "outputs": [],
   "source": [
    "data_numeric = data[numerical_features].copy()"
   ]
  },
  {
   "cell_type": "code",
   "execution_count": 25,
   "id": "084c987e",
   "metadata": {},
   "outputs": [
    {
     "data": {
      "text/plain": [
       "<AxesSubplot:>"
      ]
     },
     "execution_count": 25,
     "metadata": {},
     "output_type": "execute_result"
    },
    {
     "data": {
      "image/png": "[encoded data removed]",
      "text/plain": [
       "<Figure size 432x288 with 1 Axes>"
      ]
     },
     "metadata": {
      "needs_background": "light"
     },
     "output_type": "display_data"
    }
   ],
   "source": [
    "## fix campaign\n",
    "data_numeric['campaign'] = data_numeric['campaign'].apply(lambda x: 14 if x > 14 else x)\n",
    "data_numeric['campaign'].hist()"
   ]
  },
  {
   "cell_type": "code",
   "execution_count": 26,
   "id": "d06ab589",
   "metadata": {},
   "outputs": [],
   "source": [
    "## transform age\n",
    "data_numeric['age_log'] = np.log(data_numeric['age'])\n",
    "data_numeric = data_numeric.drop(columns = ['age'])"
   ]
  },
  {
   "cell_type": "code",
   "execution_count": 27,
   "id": "e8ffc6dc",
   "metadata": {},
   "outputs": [
    {
     "data": {
      "text/plain": [
       "['campaign',\n",
       " 'emp.var.rate',\n",
       " 'cons.price.idx',\n",
       " 'euribor3m',\n",
       " 'nr.employed',\n",
       " 'age_log']"
      ]
     },
     "execution_count": 27,
     "metadata": {},
     "output_type": "execute_result"
    }
   ],
   "source": [
    "numerical_features.remove('age')\n",
    "numerical_features.append('age_log')\n",
    "numerical_features"
   ]
  },
  {
   "cell_type": "code",
   "execution_count": 28,
   "id": "b378ddf3",
   "metadata": {},
   "outputs": [],
   "source": [
    "def process_numeric(df, col: str = None):\n",
    "    \"\"\"Scale numerical dara to [0,1] interval\"\"\"\n",
    "    df_out = df.copy()\n",
    "    if col:\n",
    "        return df_out[col].transform(lambda x: (x - x.min())/(x.max() - x.min()))\n",
    "    else:\n",
    "        for col in df.columns:\n",
    "            df_out[col] = process_numeric(df, col)\n",
    "    return df_out"
   ]
  },
  {
   "cell_type": "code",
   "execution_count": 29,
   "id": "3b20480a",
   "metadata": {},
   "outputs": [
    {
     "data": {
      "text/html": [
       "<div>\n",
       "<style scoped>\n",
       "    .dataframe tbody tr th:only-of-type {\n",
       "        vertical-align: middle;\n",
       "    }\n",
       "\n",
       "    .dataframe tbody tr th {\n",
       "        vertical-align: top;\n",
       "    }\n",
       "\n",
       "    .dataframe thead th {\n",
       "        text-align: right;\n",
       "    }\n",
       "</style>\n",
       "<table border=\"1\" class=\"dataframe\">\n",
       "  <thead>\n",
       "    <tr style=\"text-align: right;\">\n",
       "      <th></th>\n",
       "      <th>campaign</th>\n",
       "      <th>emp.var.rate</th>\n",
       "      <th>cons.price.idx</th>\n",
       "      <th>euribor3m</th>\n",
       "      <th>nr.employed</th>\n",
       "      <th>age_log</th>\n",
       "    </tr>\n",
       "  </thead>\n",
       "  <tbody>\n",
       "    <tr>\n",
       "      <th>0</th>\n",
       "      <td>0.0</td>\n",
       "      <td>0.9375</td>\n",
       "      <td>0.698753</td>\n",
       "      <td>0.957379</td>\n",
       "      <td>0.859735</td>\n",
       "      <td>0.680540</td>\n",
       "    </tr>\n",
       "    <tr>\n",
       "      <th>1</th>\n",
       "      <td>0.0</td>\n",
       "      <td>0.9375</td>\n",
       "      <td>0.698753</td>\n",
       "      <td>0.957379</td>\n",
       "      <td>0.859735</td>\n",
       "      <td>0.690644</td>\n",
       "    </tr>\n",
       "    <tr>\n",
       "      <th>2</th>\n",
       "      <td>0.0</td>\n",
       "      <td>0.9375</td>\n",
       "      <td>0.698753</td>\n",
       "      <td>0.957379</td>\n",
       "      <td>0.859735</td>\n",
       "      <td>0.443958</td>\n",
       "    </tr>\n",
       "    <tr>\n",
       "      <th>3</th>\n",
       "      <td>0.0</td>\n",
       "      <td>0.9375</td>\n",
       "      <td>0.698753</td>\n",
       "      <td>0.957379</td>\n",
       "      <td>0.859735</td>\n",
       "      <td>0.488462</td>\n",
       "    </tr>\n",
       "    <tr>\n",
       "      <th>4</th>\n",
       "      <td>0.0</td>\n",
       "      <td>0.9375</td>\n",
       "      <td>0.698753</td>\n",
       "      <td>0.957379</td>\n",
       "      <td>0.859735</td>\n",
       "      <td>0.680540</td>\n",
       "    </tr>\n",
       "  </tbody>\n",
       "</table>\n",
       "</div>"
      ],
      "text/plain": [
       "   campaign  emp.var.rate  cons.price.idx  euribor3m  nr.employed   age_log\n",
       "0       0.0        0.9375        0.698753   0.957379     0.859735  0.680540\n",
       "1       0.0        0.9375        0.698753   0.957379     0.859735  0.690644\n",
       "2       0.0        0.9375        0.698753   0.957379     0.859735  0.443958\n",
       "3       0.0        0.9375        0.698753   0.957379     0.859735  0.488462\n",
       "4       0.0        0.9375        0.698753   0.957379     0.859735  0.680540"
      ]
     },
     "execution_count": 29,
     "metadata": {},
     "output_type": "execute_result"
    }
   ],
   "source": [
    "data_numeric_processed = process_numeric(data_numeric)\n",
    "data_numeric_processed.head()"
   ]
  },
  {
   "cell_type": "code",
   "execution_count": 30,
   "id": "7430a0a1",
   "metadata": {},
   "outputs": [],
   "source": [
    "features = pd.concat([data_numeric_processed, data_categorical_processed], axis = 1)"
   ]
  },
  {
   "cell_type": "code",
   "execution_count": 31,
   "id": "d1c67399",
   "metadata": {},
   "outputs": [
    {
     "data": {
      "text/html": [
       "<div>\n",
       "<style scoped>\n",
       "    .dataframe tbody tr th:only-of-type {\n",
       "        vertical-align: middle;\n",
       "    }\n",
       "\n",
       "    .dataframe tbody tr th {\n",
       "        vertical-align: top;\n",
       "    }\n",
       "\n",
       "    .dataframe thead th {\n",
       "        text-align: right;\n",
       "    }\n",
       "</style>\n",
       "<table border=\"1\" class=\"dataframe\">\n",
       "  <thead>\n",
       "    <tr style=\"text-align: right;\">\n",
       "      <th></th>\n",
       "      <th>campaign</th>\n",
       "      <th>emp.var.rate</th>\n",
       "      <th>cons.price.idx</th>\n",
       "      <th>euribor3m</th>\n",
       "      <th>nr.employed</th>\n",
       "      <th>age_log</th>\n",
       "      <th>job_blue-collar</th>\n",
       "      <th>job_entrepreneur</th>\n",
       "      <th>job_housemaid</th>\n",
       "      <th>job_management</th>\n",
       "      <th>...</th>\n",
       "      <th>month_may</th>\n",
       "      <th>month_nov</th>\n",
       "      <th>month_oct</th>\n",
       "      <th>month_sep</th>\n",
       "      <th>day_of_week_mon</th>\n",
       "      <th>day_of_week_thu</th>\n",
       "      <th>day_of_week_tue</th>\n",
       "      <th>day_of_week_wed</th>\n",
       "      <th>poutcome_nonexistent</th>\n",
       "      <th>poutcome_success</th>\n",
       "    </tr>\n",
       "  </thead>\n",
       "  <tbody>\n",
       "    <tr>\n",
       "      <th>0</th>\n",
       "      <td>0.0</td>\n",
       "      <td>0.9375</td>\n",
       "      <td>0.698753</td>\n",
       "      <td>0.957379</td>\n",
       "      <td>0.859735</td>\n",
       "      <td>0.680540</td>\n",
       "      <td>0</td>\n",
       "      <td>0</td>\n",
       "      <td>1</td>\n",
       "      <td>0</td>\n",
       "      <td>...</td>\n",
       "      <td>1</td>\n",
       "      <td>0</td>\n",
       "      <td>0</td>\n",
       "      <td>0</td>\n",
       "      <td>1</td>\n",
       "      <td>0</td>\n",
       "      <td>0</td>\n",
       "      <td>0</td>\n",
       "      <td>1</td>\n",
       "      <td>0</td>\n",
       "    </tr>\n",
       "    <tr>\n",
       "      <th>1</th>\n",
       "      <td>0.0</td>\n",
       "      <td>0.9375</td>\n",
       "      <td>0.698753</td>\n",
       "      <td>0.957379</td>\n",
       "      <td>0.859735</td>\n",
       "      <td>0.690644</td>\n",
       "      <td>0</td>\n",
       "      <td>0</td>\n",
       "      <td>0</td>\n",
       "      <td>0</td>\n",
       "      <td>...</td>\n",
       "      <td>1</td>\n",
       "      <td>0</td>\n",
       "      <td>0</td>\n",
       "      <td>0</td>\n",
       "      <td>1</td>\n",
       "      <td>0</td>\n",
       "      <td>0</td>\n",
       "      <td>0</td>\n",
       "      <td>1</td>\n",
       "      <td>0</td>\n",
       "    </tr>\n",
       "    <tr>\n",
       "      <th>2</th>\n",
       "      <td>0.0</td>\n",
       "      <td>0.9375</td>\n",
       "      <td>0.698753</td>\n",
       "      <td>0.957379</td>\n",
       "      <td>0.859735</td>\n",
       "      <td>0.443958</td>\n",
       "      <td>0</td>\n",
       "      <td>0</td>\n",
       "      <td>0</td>\n",
       "      <td>0</td>\n",
       "      <td>...</td>\n",
       "      <td>1</td>\n",
       "      <td>0</td>\n",
       "      <td>0</td>\n",
       "      <td>0</td>\n",
       "      <td>1</td>\n",
       "      <td>0</td>\n",
       "      <td>0</td>\n",
       "      <td>0</td>\n",
       "      <td>1</td>\n",
       "      <td>0</td>\n",
       "    </tr>\n",
       "    <tr>\n",
       "      <th>3</th>\n",
       "      <td>0.0</td>\n",
       "      <td>0.9375</td>\n",
       "      <td>0.698753</td>\n",
       "      <td>0.957379</td>\n",
       "      <td>0.859735</td>\n",
       "      <td>0.488462</td>\n",
       "      <td>0</td>\n",
       "      <td>0</td>\n",
       "      <td>0</td>\n",
       "      <td>0</td>\n",
       "      <td>...</td>\n",
       "      <td>1</td>\n",
       "      <td>0</td>\n",
       "      <td>0</td>\n",
       "      <td>0</td>\n",
       "      <td>1</td>\n",
       "      <td>0</td>\n",
       "      <td>0</td>\n",
       "      <td>0</td>\n",
       "      <td>1</td>\n",
       "      <td>0</td>\n",
       "    </tr>\n",
       "    <tr>\n",
       "      <th>4</th>\n",
       "      <td>0.0</td>\n",
       "      <td>0.9375</td>\n",
       "      <td>0.698753</td>\n",
       "      <td>0.957379</td>\n",
       "      <td>0.859735</td>\n",
       "      <td>0.680540</td>\n",
       "      <td>0</td>\n",
       "      <td>0</td>\n",
       "      <td>0</td>\n",
       "      <td>0</td>\n",
       "      <td>...</td>\n",
       "      <td>1</td>\n",
       "      <td>0</td>\n",
       "      <td>0</td>\n",
       "      <td>0</td>\n",
       "      <td>1</td>\n",
       "      <td>0</td>\n",
       "      <td>0</td>\n",
       "      <td>0</td>\n",
       "      <td>1</td>\n",
       "      <td>0</td>\n",
       "    </tr>\n",
       "  </tbody>\n",
       "</table>\n",
       "<p>5 rows × 48 columns</p>\n",
       "</div>"
      ],
      "text/plain": [
       "   campaign  emp.var.rate  cons.price.idx  euribor3m  nr.employed   age_log  \\\n",
       "0       0.0        0.9375        0.698753   0.957379     0.859735  0.680540   \n",
       "1       0.0        0.9375        0.698753   0.957379     0.859735  0.690644   \n",
       "2       0.0        0.9375        0.698753   0.957379     0.859735  0.443958   \n",
       "3       0.0        0.9375        0.698753   0.957379     0.859735  0.488462   \n",
       "4       0.0        0.9375        0.698753   0.957379     0.859735  0.680540   \n",
       "\n",
       "   job_blue-collar  job_entrepreneur  job_housemaid  job_management  ...  \\\n",
       "0                0                 0              1               0  ...   \n",
       "1                0                 0              0               0  ...   \n",
       "2                0                 0              0               0  ...   \n",
       "3                0                 0              0               0  ...   \n",
       "4                0                 0              0               0  ...   \n",
       "\n",
       "   month_may  month_nov  month_oct  month_sep  day_of_week_mon  \\\n",
       "0          1          0          0          0                1   \n",
       "1          1          0          0          0                1   \n",
       "2          1          0          0          0                1   \n",
       "3          1          0          0          0                1   \n",
       "4          1          0          0          0                1   \n",
       "\n",
       "   day_of_week_thu  day_of_week_tue  day_of_week_wed  poutcome_nonexistent  \\\n",
       "0                0                0                0                     1   \n",
       "1                0                0                0                     1   \n",
       "2                0                0                0                     1   \n",
       "3                0                0                0                     1   \n",
       "4                0                0                0                     1   \n",
       "\n",
       "   poutcome_success  \n",
       "0                 0  \n",
       "1                 0  \n",
       "2                 0  \n",
       "3                 0  \n",
       "4                 0  \n",
       "\n",
       "[5 rows x 48 columns]"
      ]
     },
     "execution_count": 31,
     "metadata": {},
     "output_type": "execute_result"
    }
   ],
   "source": [
    "features.head()"
   ]
  },
  {
   "cell_type": "code",
   "execution_count": 32,
   "id": "27f5498c",
   "metadata": {},
   "outputs": [],
   "source": [
    "x_train, x_test, y_train, y_test = train_test_split(features, data['y_numeric'], test_size=.25, shuffle=True, stratify=data['y_numeric'])"
   ]
  },
  {
   "cell_type": "markdown",
   "id": "536e60bf",
   "metadata": {},
   "source": [
    "### Modeling"
   ]
  },
  {
   "cell_type": "code",
   "execution_count": 33,
   "id": "f261cd87",
   "metadata": {},
   "outputs": [],
   "source": [
    "from sklearn.linear_model import LogisticRegression, LogisticRegressionCV"
   ]
  },
  {
   "cell_type": "markdown",
   "id": "d2890d94",
   "metadata": {},
   "source": [
    "##### Logistic Regression with imbalanced data"
   ]
  },
  {
   "cell_type": "code",
   "execution_count": 34,
   "id": "59536f1a",
   "metadata": {},
   "outputs": [],
   "source": [
    "LRCls = LogisticRegressionCV(max_iter = 3000) #default is 5 fold"
   ]
  },
  {
   "cell_type": "code",
   "execution_count": 35,
   "id": "2a6e49ba",
   "metadata": {},
   "outputs": [
    {
     "data": {
      "text/plain": [
       "LogisticRegressionCV(max_iter=3000)"
      ]
     },
     "execution_count": 35,
     "metadata": {},
     "output_type": "execute_result"
    }
   ],
   "source": [
    "LRCls.fit(x_train, y_train)"
   ]
  },
  {
   "cell_type": "code",
   "execution_count": 36,
   "id": "b6fe8f8a",
   "metadata": {},
   "outputs": [
    {
     "name": "stdout",
     "output_type": "stream",
     "text": [
      "Insample model score is 90.0 and outsample score is 90.0\n"
     ]
    }
   ],
   "source": [
    "print((\n",
    "    f\"Insample model score is {round(LRCls.score(x_train, y_train)*100,1)}\"\n",
    "    f\" and outsample score is {round(LRCls.score(x_test, y_test)*100,1)}\"\n",
    "))"
   ]
  },
  {
   "cell_type": "code",
   "execution_count": 37,
   "id": "91dc2cf5",
   "metadata": {},
   "outputs": [
    {
     "data": {
      "text/plain": [
       "array([[9025,  112],\n",
       "       [ 917,  243]])"
      ]
     },
     "execution_count": 37,
     "metadata": {},
     "output_type": "execute_result"
    }
   ],
   "source": [
    "y_pred = LRCls.predict(x_test)\n",
    "confusion_matrix(y_test, y_pred)"
   ]
  },
  {
   "cell_type": "code",
   "execution_count": 38,
   "id": "aab63711",
   "metadata": {},
   "outputs": [
    {
     "data": {
      "text/plain": [
       "0.7930960418608688"
      ]
     },
     "execution_count": 38,
     "metadata": {},
     "output_type": "execute_result"
    }
   ],
   "source": [
    "probas_ = LRCls.predict_proba(x_test)\n",
    "fpr, tpr, thresholds = roc_curve(y_test, probas_[:,1])\n",
    "roc_auc = auc(fpr, tpr)\n",
    "roc_auc"
   ]
  },
  {
   "cell_type": "code",
   "execution_count": 39,
   "id": "e09ac8d1",
   "metadata": {},
   "outputs": [
    {
     "name": "stdout",
     "output_type": "stream",
     "text": [
      "              precision    recall  f1-score   support\n",
      "\n",
      "           0       0.91      0.99      0.95      9137\n",
      "           1       0.68      0.21      0.32      1160\n",
      "\n",
      "    accuracy                           0.90     10297\n",
      "   macro avg       0.80      0.60      0.63     10297\n",
      "weighted avg       0.88      0.90      0.88     10297\n",
      "\n"
     ]
    }
   ],
   "source": [
    "print(classification_report(y_test, y_pred))"
   ]
  },
  {
   "cell_type": "markdown",
   "id": "1df00839",
   "metadata": {},
   "source": [
    "##### Logistic Regression with imbalanced data and balanced weights"
   ]
  },
  {
   "cell_type": "code",
   "execution_count": 40,
   "id": "3f498095",
   "metadata": {},
   "outputs": [],
   "source": [
    "LRCls = LogisticRegressionCV(max_iter = 3000, class_weight='balanced')"
   ]
  },
  {
   "cell_type": "code",
   "execution_count": 41,
   "id": "64da62d8",
   "metadata": {},
   "outputs": [
    {
     "data": {
      "text/plain": [
       "LogisticRegressionCV(class_weight='balanced', max_iter=3000)"
      ]
     },
     "execution_count": 41,
     "metadata": {},
     "output_type": "execute_result"
    }
   ],
   "source": [
    "LRCls.fit(x_train, y_train)"
   ]
  },
  {
   "cell_type": "code",
   "execution_count": 42,
   "id": "fb10ad33",
   "metadata": {},
   "outputs": [
    {
     "name": "stdout",
     "output_type": "stream",
     "text": [
      "Insample model score is 83.1 and outsample score is 83.5\n"
     ]
    }
   ],
   "source": [
    "print((\n",
    "    f\"Insample model score is {round(LRCls.score(x_train, y_train)*100,1)}\"\n",
    "    f\" and outsample score is {round(LRCls.score(x_test, y_test)*100,1)}\"\n",
    "))"
   ]
  },
  {
   "cell_type": "code",
   "execution_count": 43,
   "id": "c0dbad6d",
   "metadata": {},
   "outputs": [
    {
     "data": {
      "text/plain": [
       "array([[7878, 1259],\n",
       "       [ 441,  719]])"
      ]
     },
     "execution_count": 43,
     "metadata": {},
     "output_type": "execute_result"
    }
   ],
   "source": [
    "y_pred = LRCls.predict(x_test)\n",
    "confusion_matrix(y_test, y_pred)"
   ]
  },
  {
   "cell_type": "code",
   "execution_count": 44,
   "id": "b0330ebb",
   "metadata": {},
   "outputs": [
    {
     "data": {
      "text/plain": [
       "0.7936569480664066"
      ]
     },
     "execution_count": 44,
     "metadata": {},
     "output_type": "execute_result"
    }
   ],
   "source": [
    "probas_ = LRCls.predict_proba(x_test)\n",
    "fpr, tpr, thresholds = roc_curve(y_test, probas_[:,1])\n",
    "roc_auc = auc(fpr, tpr)\n",
    "roc_auc"
   ]
  },
  {
   "cell_type": "code",
   "execution_count": 45,
   "id": "c0eefc05",
   "metadata": {},
   "outputs": [
    {
     "name": "stdout",
     "output_type": "stream",
     "text": [
      "              precision    recall  f1-score   support\n",
      "\n",
      "           0       0.95      0.86      0.90      9137\n",
      "           1       0.36      0.62      0.46      1160\n",
      "\n",
      "    accuracy                           0.83     10297\n",
      "   macro avg       0.66      0.74      0.68     10297\n",
      "weighted avg       0.88      0.83      0.85     10297\n",
      "\n"
     ]
    }
   ],
   "source": [
    "print(classification_report(y_test, y_pred))"
   ]
  },
  {
   "cell_type": "code",
   "execution_count": 93,
   "id": "34df77e7",
   "metadata": {},
   "outputs": [
    {
     "data": {
      "text/plain": [
       "<AxesSubplot:>"
      ]
     },
     "execution_count": 93,
     "metadata": {},
     "output_type": "execute_result"
    },
    {
     "data": {
      "image/png": "[encoded data removed]",
      "text/plain": [
       "<Figure size 1080x720 with 1 Axes>"
      ]
     },
     "metadata": {
      "needs_background": "light"
     },
     "output_type": "display_data"
    }
   ],
   "source": [
    "importance = LRCls.coef_[0]\n",
    "importance_df = pd.DataFrame(data=importance.tolist(), index=x_train.columns.tolist(), columns=['feature_importance'])\n",
    "importance_df['abs_importance'] = np.abs(importance_df['feature_importance'])\n",
    "median_importance = importance_df['abs_importance'].mean()\n",
    "fig, ax = plt.subplots(1,1, figsize = [15,10])\n",
    "importance_df\\\n",
    "    .query('abs_importance>=@median_importance')\\\n",
    "    .sort_values('feature_importance', ascending=True)['feature_importance']\\\n",
    "    .plot(kind='barh', ax=ax)"
   ]
  },
  {
   "cell_type": "markdown",
   "id": "0d336e20",
   "metadata": {},
   "source": [
    "##### Plain XGBoost"
   ]
  },
  {
   "cell_type": "code",
   "execution_count": 46,
   "id": "48d1d020",
   "metadata": {},
   "outputs": [
    {
     "data": {
      "text/plain": [
       "XGBClassifier(base_score=0.5, booster='gbtree', colsample_bylevel=1,\n",
       "              colsample_bynode=1, colsample_bytree=1, enable_categorical=False,\n",
       "              eval_metric='logloss', gamma=0, gpu_id=-1, importance_type=None,\n",
       "              interaction_constraints='', learning_rate=0.300000012,\n",
       "              max_delta_step=0, max_depth=6, min_child_weight=1, missing=nan,\n",
       "              monotone_constraints='()', n_estimators=100, n_jobs=8,\n",
       "              num_parallel_tree=1, predictor='auto', random_state=0,\n",
       "              reg_alpha=0, reg_lambda=1, scale_pos_weight=1, subsample=1,\n",
       "              tree_method='exact', use_label_encoder=False,\n",
       "              validate_parameters=1, verbosity=None)"
      ]
     },
     "execution_count": 46,
     "metadata": {},
     "output_type": "execute_result"
    }
   ],
   "source": [
    "XGBCls = XGBClassifier(eval_metric='logloss', use_label_encoder=False) #, scale_pos_weight = 5)\n",
    "XGBCls.fit(x_train, y_train)"
   ]
  },
  {
   "cell_type": "code",
   "execution_count": 47,
   "id": "023544cd",
   "metadata": {},
   "outputs": [
    {
     "name": "stdout",
     "output_type": "stream",
     "text": [
      "Insample model score is 92.8 and outsample score is 89.9\n"
     ]
    }
   ],
   "source": [
    "print((\n",
    "    f\"Insample model score is {round(XGBCls.score(x_train, y_train)*100,1)}\"\n",
    "    f\" and outsample score is {round(XGBCls.score(x_test, y_test)*100,1)}\"\n",
    "))"
   ]
  },
  {
   "cell_type": "code",
   "execution_count": 48,
   "id": "be0c1b1b",
   "metadata": {},
   "outputs": [
    {
     "data": {
      "text/plain": [
       "array([[8925,  212],\n",
       "       [ 830,  330]])"
      ]
     },
     "execution_count": 48,
     "metadata": {},
     "output_type": "execute_result"
    }
   ],
   "source": [
    "y_pred = XGBCls.predict(x_test)\n",
    "confusion_matrix(y_test, y_pred)"
   ]
  },
  {
   "cell_type": "code",
   "execution_count": 49,
   "id": "b4c964b2",
   "metadata": {},
   "outputs": [
    {
     "data": {
      "text/plain": [
       "0.7907024017541409"
      ]
     },
     "execution_count": 49,
     "metadata": {},
     "output_type": "execute_result"
    }
   ],
   "source": [
    "probas_ = XGBCls.predict_proba(x_test)\n",
    "fpr, tpr, thresholds = roc_curve(y_test, probas_[:,1])\n",
    "roc_auc = auc(fpr, tpr)\n",
    "roc_auc"
   ]
  },
  {
   "cell_type": "code",
   "execution_count": 50,
   "id": "00b8eb7c",
   "metadata": {},
   "outputs": [
    {
     "name": "stdout",
     "output_type": "stream",
     "text": [
      "              precision    recall  f1-score   support\n",
      "\n",
      "           0       0.91      0.98      0.94      9137\n",
      "           1       0.61      0.28      0.39      1160\n",
      "\n",
      "    accuracy                           0.90     10297\n",
      "   macro avg       0.76      0.63      0.67     10297\n",
      "weighted avg       0.88      0.90      0.88     10297\n",
      "\n"
     ]
    }
   ],
   "source": [
    "print(classification_report(y_test, y_pred))"
   ]
  },
  {
   "cell_type": "code",
   "execution_count": null,
   "id": "7eb56838",
   "metadata": {},
   "outputs": [],
   "source": []
  }
 ],
 "metadata": {
  "kernelspec": {
   "display_name": "Python 3 (ipykernel)",
   "language": "python",
   "name": "python3"
  },
  "language_info": {
   "codemirror_mode": {
    "name": "ipython",
    "version": 3
   },
   "file_extension": ".py",
   "mimetype": "text/x-python",
   "name": "python",
   "nbconvert_exporter": "python",
   "pygments_lexer": "ipython3",
   "version": "3.8.12"
  }
 },
 "nbformat": 4,
 "nbformat_minor": 5
}
